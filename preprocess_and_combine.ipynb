{
  "cells": [
    {
      "cell_type": "code",
      "execution_count": null,
      "metadata": {
        "id": "krq6SctEYyAW"
      },
      "outputs": [],
      "source": [
        "'''\n",
        "This notebook was used to preprocess the data collected during the extraction phase (see PyDriller.ipynb) and combine the\n",
        "the extracted methods (from 5 GitHub repositories) into a single csv file, \"preprocessed_final.csv\".\n",
        "'''"
      ]
    },
    {
      "cell_type": "code",
      "execution_count": 1,
      "metadata": {
        "id": "4HOfJFp9_5Jg"
      },
      "outputs": [],
      "source": [
        "import pandas as pd\n",
        "import re"
      ]
    },
    {
      "cell_type": "code",
      "execution_count": 2,
      "metadata": {
        "id": "nHmJZj4eAoYT"
      },
      "outputs": [],
      "source": [
        "### Type 1 Clones ###\n",
        "def remove_duplicates(data):\n",
        "    \"\"\"Remove duplicate methods based on method content.\n",
        "      Almost Type-1 with the exception of comments\n",
        "    \"\"\"\n",
        "    return data.drop_duplicates(subset=\"Method Code\", keep=\"first\")"
      ]
    },
    {
      "cell_type": "code",
      "execution_count": 3,
      "metadata": {
        "id": "l9opP5uqCDuD"
      },
      "outputs": [],
      "source": [
        "def filter_ascii_methods(data):\n",
        "    \"\"\"Filter methods to include only those with ASCII characters.\"\"\"\n",
        "    data = data[data[\"Method Code\"].apply(lambda x: all(ord(char) < 128 for char in x))]\n",
        "    return data"
      ]
    },
    {
      "cell_type": "code",
      "execution_count": 4,
      "metadata": {
        "id": "xdidOcBACcqe"
      },
      "outputs": [],
      "source": [
        "def remove_outliers(data, lower_percentile=5, upper_percentile=95):\n",
        "    \"\"\"Remove outliers based on method length.\"\"\"\n",
        "    method_lengths = data[\"Method Code\"].apply(len)\n",
        "    lower_bound = method_lengths.quantile(lower_percentile / 100)\n",
        "    upper_bound = method_lengths.quantile(upper_percentile / 100)\n",
        "    return data[(method_lengths >= lower_bound) & (method_lengths <= upper_bound)]"
      ]
    },
    {
      "cell_type": "code",
      "execution_count": 5,
      "metadata": {
        "id": "6UrGPO-H9S3Y"
      },
      "outputs": [],
      "source": [
        "def remove_boilerplate_methods(data):\n",
        "    \"\"\"Remove boilerplate methods like setters and getters.\"\"\"\n",
        "    boilerplate_patterns = [\n",
        "        r\"\\bset[A-Z][a-zA-Z0-9_]*\",  # Setter methods\n",
        "        r\"\\bget[A-Z][a-zA-Z0-9_]*\",  # Getter methods\n",
        "    ]\n",
        "    boilerplate_regex = re.compile(\"|\".join(boilerplate_patterns))\n",
        "    data = data[~data[\"Method Name\"].apply(lambda x: bool(boilerplate_regex.search(x)))]\n",
        "    return data"
      ]
    },
    {
      "cell_type": "code",
      "execution_count": 6,
      "metadata": {
        "id": "IKSHrlJMBeO7"
      },
      "outputs": [],
      "source": [
        "def remove_invalid_functions(df):\n",
        "    untokenized_methods = df['Method Code']\n",
        "    invalid_ind=[]\n",
        "    lexer = get_lexer_by_name(\"Java\")\n",
        "    for i, method in enumerate(untokenized_methods):\n",
        "        num_functions = 0\n",
        "        for t in lexer.get_tokens(method):\n",
        "            if t[0] in Token.Name.Function:\n",
        "                num_functions += 1\n",
        "        if num_functions > 1:\n",
        "            invalid_ind.append(i)\n",
        "    new_df = df.drop(df.index[invalid_ind])\n",
        "    return new_df"
      ]
    },
    {
      "cell_type": "code",
      "execution_count": 7,
      "metadata": {
        "id": "8Ed2q2XAGWlh"
      },
      "outputs": [],
      "source": [
        "from pygments.lexers.jvm import JavaLexer\n",
        "from pygments.lexers import get_lexer_by_name\n",
        "from pygments.token import Token"
      ]
    },
    {
      "cell_type": "code",
      "execution_count": 8,
      "metadata": {
        "id": "hdDISxOyC1Kl"
      },
      "outputs": [],
      "source": [
        "def remove_comments_from_dataframe(df: pd.DataFrame, method_column: str, language: str) -> pd.DataFrame:\n",
        "    \"\"\"\n",
        "    Removes comments from Java methods in a DataFrame and adds a new column with cleaned methods.\n",
        "\n",
        "    Args:\n",
        "        df (pd.DataFrame): DataFrame containing the methods.\n",
        "        method_column (str): Column name containing the raw Java methods.\n",
        "        language (str): Programming language for the lexer (e.g., 'java').\n",
        "\n",
        "    Returns:\n",
        "        pd.DataFrame: Updated DataFrame with a new column\n",
        "    \"\"\"\n",
        "    # Define a function to remove comments from a single method\n",
        "    def remove_comments(code):\n",
        "        lexer = get_lexer_by_name(language)\n",
        "        tokens = lexer.get_tokens(code)\n",
        "        # Filter out comments using a lambda function\n",
        "        clean_code = ''.join([token[1] for token in tokens if not (lambda t: t[0] in Token.Comment)(token)])\n",
        "        return clean_code\n",
        "\n",
        "    # Apply the function to the specified column and add a new column with the results\n",
        "    df[\"Method No Comments\"] = df[method_column].apply(remove_comments)\n",
        "    return df"
      ]
    },
    {
      "cell_type": "code",
      "execution_count": 9,
      "metadata": {
        "id": "uhBDgzbYJtlX"
      },
      "outputs": [],
      "source": [
        "df1 = pd.read_csv(\"extracted_methods__jhy_jsoup.csv\", on_bad_lines=\"skip\")\n",
        "df2 = pd.read_csv(\"extracted_methods__mpatric_mp3agic.csv\", on_bad_lines=\"skip\")\n",
        "df3 = pd.read_csv(\"extracted_methods__qos-ch_slf4j.csv\", on_bad_lines=\"skip\")\n",
        "df4 = pd.read_csv(\"extracted_methods__tootallnate_java-websocket.csv\", on_bad_lines=\"skip\")"
      ]
    },
    {
      "cell_type": "code",
      "execution_count": 10,
      "metadata": {
        "id": "yHrZycK-v-fy"
      },
      "outputs": [],
      "source": [
        "def preprocess(df):\n",
        "  print(\"Initial dataset size:\", len(df))\n",
        "  df = remove_duplicates(df)\n",
        "  print(\"After removing duplicates:\", len(df))\n",
        "\n",
        "  df = filter_ascii_methods(df)\n",
        "  print(\"After filtering ASCII methods:\", len(df))\n",
        "\n",
        "  df = remove_boilerplate_methods(df)\n",
        "  print(\"After removing boilerplate methods:\", len(df))\n",
        "\n",
        "  df = remove_invalid_functions(df)\n",
        "  print(\"After removing invalid functions:\", len(df))\n",
        "\n",
        "  return df"
      ]
    },
    {
      "cell_type": "code",
      "execution_count": 11,
      "metadata": {
        "colab": {
          "base_uri": "https://localhost:8080/"
        },
        "id": "BQHPJuIOCFQm",
        "outputId": "16e3bff1-fa5a-432e-c72b-01dacf5d89c0"
      },
      "outputs": [
        {
          "name": "stdout",
          "output_type": "stream",
          "text": [
            "Initial dataset size: 161917\n",
            "After removing duplicates: 12481\n",
            "After filtering ASCII methods: 12310\n",
            "After removing boilerplate methods: 11932\n",
            "After removing invalid functions: 7697\n"
          ]
        }
      ],
      "source": [
        "df1 = preprocess(df1)"
      ]
    },
    {
      "cell_type": "code",
      "execution_count": 12,
      "metadata": {
        "colab": {
          "base_uri": "https://localhost:8080/"
        },
        "id": "CO6pfG-9R8OA",
        "outputId": "5658e910-5df0-4e8d-86ec-ba44db66a0dc"
      },
      "outputs": [
        {
          "name": "stdout",
          "output_type": "stream",
          "text": [
            "Initial dataset size: 11063\n",
            "After removing duplicates: 3114\n",
            "After filtering ASCII methods: 3112\n",
            "After removing boilerplate methods: 1775\n",
            "After removing invalid functions: 1647\n"
          ]
        }
      ],
      "source": [
        "df2 = preprocess(df2)"
      ]
    },
    {
      "cell_type": "code",
      "execution_count": 13,
      "metadata": {
        "colab": {
          "base_uri": "https://localhost:8080/"
        },
        "id": "uOzj1rNASC1g",
        "outputId": "ba4e2056-00f4-4a3f-cc8a-8fa9eff18682"
      },
      "outputs": [
        {
          "name": "stdout",
          "output_type": "stream",
          "text": [
            "Initial dataset size: 36783\n",
            "After removing duplicates: 8032\n",
            "After filtering ASCII methods: 8032\n",
            "After removing boilerplate methods: 6811\n",
            "After removing invalid functions: 4801\n"
          ]
        }
      ],
      "source": [
        "df3 = preprocess(df3)"
      ]
    },
    {
      "cell_type": "code",
      "execution_count": 14,
      "metadata": {
        "colab": {
          "base_uri": "https://localhost:8080/"
        },
        "id": "utEOnau5SGM9",
        "outputId": "69e1460e-025d-4dbe-9da9-f98bb5d715a6"
      },
      "outputs": [
        {
          "name": "stdout",
          "output_type": "stream",
          "text": [
            "Initial dataset size: 42066\n",
            "After removing duplicates: 8198\n",
            "After filtering ASCII methods: 8194\n",
            "After removing boilerplate methods: 7489\n",
            "After removing invalid functions: 4583\n"
          ]
        }
      ],
      "source": [
        "df4 = preprocess(df4)"
      ]
    },
    {
      "cell_type": "code",
      "execution_count": 17,
      "metadata": {
        "colab": {
          "base_uri": "https://localhost:8080/"
        },
        "id": "IqpwbkuuSVuq",
        "outputId": "06815202-82f3-4320-c19e-8d27fa6d72e3"
      },
      "outputs": [
        {
          "name": "stdout",
          "output_type": "stream",
          "text": [
            "Initial dataset size: 97168\n",
            "After removing duplicates: 16158\n",
            "After filtering ASCII methods: 15830\n",
            "After removing boilerplate methods: 7582\n",
            "After removing invalid functions: 6210\n"
          ]
        }
      ],
      "source": [
        "df5 = pd.read_csv(\"extracted_methods__oshi_oshi.csv\", on_bad_lines=\"skip\")\n",
        "df5 = preprocess(df5)"
      ]
    },
    {
      "cell_type": "code",
      "execution_count": 18,
      "metadata": {
        "colab": {
          "base_uri": "https://localhost:8080/"
        },
        "id": "0J4K-AsVSzuZ",
        "outputId": "78afb3c0-2ec6-46a5-e095-f24cc6b0ce50"
      },
      "outputs": [
        {
          "name": "stdout",
          "output_type": "stream",
          "text": [
            "Initial dataset size: 93788\n",
            "After removing duplicates: 12033\n",
            "After filtering ASCII methods: 12019\n",
            "After removing boilerplate methods: 10880\n",
            "After removing invalid functions: 9852\n"
          ]
        }
      ],
      "source": [
        "df6 = pd.read_csv(\"extracted_methods__dreamhead_moco.csv\", on_bad_lines=\"skip\")\n",
        "df6 = preprocess(df6)"
      ]
    },
    {
      "cell_type": "code",
      "execution_count": 19,
      "metadata": {
        "id": "J_FB_k51TC5l"
      },
      "outputs": [],
      "source": [
        "df_concat = pd.concat([df1, df2, df3, df4, df6], ignore_index=True)"
      ]
    },
    {
      "cell_type": "code",
      "execution_count": 20,
      "metadata": {
        "colab": {
          "base_uri": "https://localhost:8080/",
          "height": 669
        },
        "id": "GO1YuxZQTLsQ",
        "outputId": "fd2e2487-ac65-4665-817a-7519f078947c"
      },
      "outputs": [
        {
          "data": {
            "application/vnd.google.colaboratory.intrinsic+json": {
              "summary": "{\n  \"name\": \"df_concat\",\n  \"rows\": 28580,\n  \"fields\": [\n    {\n      \"column\": \"Commit Hash\",\n      \"properties\": {\n        \"dtype\": \"category\",\n        \"num_unique_values\": 4546,\n        \"samples\": [\n          \"85c835652321262a86d9d32eb20f87c231954bda\",\n          \"5287c28a903a556fe047e3fdbd9effd16cf617f7\",\n          \"1f3cfcfb08a5e7454e61513389b814c7da6072ac\"\n        ],\n        \"semantic_type\": \"\",\n        \"description\": \"\"\n      }\n    },\n    {\n      \"column\": \"File Name\",\n      \"properties\": {\n        \"dtype\": \"category\",\n        \"num_unique_values\": 1308,\n        \"samples\": [\n          \"CompositeMonitor.java\",\n          \"MocoRunner.java\",\n          \"ContentRequestSetting.java\"\n        ],\n        \"semantic_type\": \"\",\n        \"description\": \"\"\n      }\n    },\n    {\n      \"column\": \"Method Name\",\n      \"properties\": {\n        \"dtype\": \"category\",\n        \"num_unique_values\": 6075,\n        \"samples\": [\n          \"handles0CharacterAsText\",\n          \"setsCommentOnV2TagOnly\",\n          \"test9_5_3\"\n        ],\n        \"semantic_type\": \"\",\n        \"description\": \"\"\n      }\n    },\n    {\n      \"column\": \"Method Code\",\n      \"properties\": {\n        \"dtype\": \"string\",\n        \"num_unique_values\": 28580,\n        \"samples\": [\n          \"    Token read() {\\n        int pos = reader.pos(); // count how many reads we do in a row without making progress, and bail if stuck in a loop\\n        int consecutiveReads = 0;\\n        while (!isEmitPending) {\\n            state.read(this, reader);\\n            if (reader.pos() <= pos) {\\n                consecutiveReads++;\\n            }\\n            Validate.isTrue(consecutiveReads < 10,\\n                \\\"BUG: Not making progress from state: \\\" + this.state.name() + \\\" with current char=\\\" + reader.current());\\n        }\\n\\n        // if emit is pending, a non-character token was found: return any chars in buffer, and leave token for next read:\\n        if (charsBuilder.length() > 0) {\\n            String str = charsBuilder.toString();\",\n          \"            public String id() {\\n                return resource.id();\\n            }\",\n          \"    @Test public void testParsesComments() {\\n        TokenStream ts = TokenStream.create(\\\"<html><head></head><body><!-- <table><tr><td></table> --><p>Hello</p></body></html>\\\");\\n        Document doc = new Parser(ts).parse();\\n        Element body = doc.child(1);\\n        Comment comment = (Comment) body.childNode(0);\\n        assertEquals(\\\"<table><tr><td></table>\\\", comment.getData());\\n        Element p = body.child(0);\\n        TextNode text = (TextNode) p.childNode(0);\\n        assertEquals(\\\"Hello\\\", text.getWholeText());\\n    }\"\n        ],\n        \"semantic_type\": \"\",\n        \"description\": \"\"\n      }\n    },\n    {\n      \"column\": \"Commit Link\",\n      \"properties\": {\n        \"dtype\": \"category\",\n        \"num_unique_values\": 4546,\n        \"samples\": [\n          \"https://www.github.com/jhy/jsoup/commit/85c835652321262a86d9d32eb20f87c231954bda\",\n          \"https://www.github.com/dreamhead/moco/commit/5287c28a903a556fe047e3fdbd9effd16cf617f7\",\n          \"https://www.github.com/jhy/jsoup/commit/1f3cfcfb08a5e7454e61513389b814c7da6072ac\"\n        ],\n        \"semantic_type\": \"\",\n        \"description\": \"\"\n      }\n    }\n  ]\n}",
              "type": "dataframe",
              "variable_name": "df_concat"
            },
            "text/html": [
              "\n",
              "  <div id=\"df-6958340c-2345-44f7-88e2-3a8d5e7efaf3\" class=\"colab-df-container\">\n",
              "    <div>\n",
              "<style scoped>\n",
              "    .dataframe tbody tr th:only-of-type {\n",
              "        vertical-align: middle;\n",
              "    }\n",
              "\n",
              "    .dataframe tbody tr th {\n",
              "        vertical-align: top;\n",
              "    }\n",
              "\n",
              "    .dataframe thead th {\n",
              "        text-align: right;\n",
              "    }\n",
              "</style>\n",
              "<table border=\"1\" class=\"dataframe\">\n",
              "  <thead>\n",
              "    <tr style=\"text-align: right;\">\n",
              "      <th></th>\n",
              "      <th>Commit Hash</th>\n",
              "      <th>File Name</th>\n",
              "      <th>Method Name</th>\n",
              "      <th>Method Code</th>\n",
              "      <th>Commit Link</th>\n",
              "    </tr>\n",
              "  </thead>\n",
              "  <tbody>\n",
              "    <tr>\n",
              "      <th>0</th>\n",
              "      <td>2bc420589478b3cb01398cd9eb233be25b73b7c0</td>\n",
              "      <td>Position.java</td>\n",
              "      <td>incOffset</td>\n",
              "      <td>public int incOffset() {\\n        return o...</td>\n",
              "      <td>https://www.github.com/jhy/jsoup/commit/2bc420...</td>\n",
              "    </tr>\n",
              "    <tr>\n",
              "      <th>1</th>\n",
              "      <td>2bc420589478b3cb01398cd9eb233be25b73b7c0</td>\n",
              "      <td>Position.java</td>\n",
              "      <td>incLineNum</td>\n",
              "      <td>public int incLineNum() {\\n        return ...</td>\n",
              "      <td>https://www.github.com/jhy/jsoup/commit/2bc420...</td>\n",
              "    </tr>\n",
              "    <tr>\n",
              "      <th>2</th>\n",
              "      <td>2bc420589478b3cb01398cd9eb233be25b73b7c0</td>\n",
              "      <td>Position.java</td>\n",
              "      <td>incColNum</td>\n",
              "      <td>public int incColNum() {\\n        return c...</td>\n",
              "      <td>https://www.github.com/jhy/jsoup/commit/2bc420...</td>\n",
              "    </tr>\n",
              "    <tr>\n",
              "      <th>3</th>\n",
              "      <td>2bc420589478b3cb01398cd9eb233be25b73b7c0</td>\n",
              "      <td>Position.java</td>\n",
              "      <td>clone</td>\n",
              "      <td>protected Position clone() {\\n        try ...</td>\n",
              "      <td>https://www.github.com/jhy/jsoup/commit/2bc420...</td>\n",
              "    </tr>\n",
              "    <tr>\n",
              "      <th>4</th>\n",
              "      <td>2bc420589478b3cb01398cd9eb233be25b73b7c0</td>\n",
              "      <td>Position.java</td>\n",
              "      <td>equals</td>\n",
              "      <td>public boolean equals(Object o) {\\n       ...</td>\n",
              "      <td>https://www.github.com/jhy/jsoup/commit/2bc420...</td>\n",
              "    </tr>\n",
              "    <tr>\n",
              "      <th>...</th>\n",
              "      <td>...</td>\n",
              "      <td>...</td>\n",
              "      <td>...</td>\n",
              "      <td>...</td>\n",
              "      <td>...</td>\n",
              "    </tr>\n",
              "    <tr>\n",
              "      <th>28575</th>\n",
              "      <td>04ae900f27e01321655d258dac14e387dc0b4024</td>\n",
              "      <td>HttpRequestDumper.java</td>\n",
              "      <td>dump</td>\n",
              "      <td>public String dump(final Request request) ...</td>\n",
              "      <td>https://www.github.com/dreamhead/moco/commit/0...</td>\n",
              "    </tr>\n",
              "    <tr>\n",
              "      <th>28576</th>\n",
              "      <td>04ae900f27e01321655d258dac14e387dc0b4024</td>\n",
              "      <td>HttpRequestDumper.java</td>\n",
              "      <td>requestProtocolLine</td>\n",
              "      <td>private String requestProtocolLine(final H...</td>\n",
              "      <td>https://www.github.com/dreamhead/moco/commit/0...</td>\n",
              "    </tr>\n",
              "    <tr>\n",
              "      <th>28577</th>\n",
              "      <td>04ae900f27e01321655d258dac14e387dc0b4024</td>\n",
              "      <td>MocoExtension.java</td>\n",
              "      <td>afterEach</td>\n",
              "      <td>public void afterEach(final ExtensionConte...</td>\n",
              "      <td>https://www.github.com/dreamhead/moco/commit/0...</td>\n",
              "    </tr>\n",
              "    <tr>\n",
              "      <th>28578</th>\n",
              "      <td>5a7405cbd9744bb7c8fecc545e41796186d9b6e0</td>\n",
              "      <td>HttpRequestDumper.java</td>\n",
              "      <td>requestProtocolLine</td>\n",
              "      <td>private String requestProtocolLine(final H...</td>\n",
              "      <td>https://www.github.com/dreamhead/moco/commit/5...</td>\n",
              "    </tr>\n",
              "    <tr>\n",
              "      <th>28579</th>\n",
              "      <td>5c9805b3f55003faf05d03c5c16d2df7d2177b79</td>\n",
              "      <td>HttpResponseDumper.java</td>\n",
              "      <td>responseProtocolLine</td>\n",
              "      <td>private String responseProtocolLine(final ...</td>\n",
              "      <td>https://www.github.com/dreamhead/moco/commit/5...</td>\n",
              "    </tr>\n",
              "  </tbody>\n",
              "</table>\n",
              "<p>28580 rows × 5 columns</p>\n",
              "</div>\n",
              "    <div class=\"colab-df-buttons\">\n",
              "\n",
              "  <div class=\"colab-df-container\">\n",
              "    <button class=\"colab-df-convert\" onclick=\"convertToInteractive('df-6958340c-2345-44f7-88e2-3a8d5e7efaf3')\"\n",
              "            title=\"Convert this dataframe to an interactive table.\"\n",
              "            style=\"display:none;\">\n",
              "\n",
              "  <svg xmlns=\"http://www.w3.org/2000/svg\" height=\"24px\" viewBox=\"0 -960 960 960\">\n",
              "    <path d=\"M120-120v-720h720v720H120Zm60-500h600v-160H180v160Zm220 220h160v-160H400v160Zm0 220h160v-160H400v160ZM180-400h160v-160H180v160Zm440 0h160v-160H620v160ZM180-180h160v-160H180v160Zm440 0h160v-160H620v160Z\"/>\n",
              "  </svg>\n",
              "    </button>\n",
              "\n",
              "  <style>\n",
              "    .colab-df-container {\n",
              "      display:flex;\n",
              "      gap: 12px;\n",
              "    }\n",
              "\n",
              "    .colab-df-convert {\n",
              "      background-color: #E8F0FE;\n",
              "      border: none;\n",
              "      border-radius: 50%;\n",
              "      cursor: pointer;\n",
              "      display: none;\n",
              "      fill: #1967D2;\n",
              "      height: 32px;\n",
              "      padding: 0 0 0 0;\n",
              "      width: 32px;\n",
              "    }\n",
              "\n",
              "    .colab-df-convert:hover {\n",
              "      background-color: #E2EBFA;\n",
              "      box-shadow: 0px 1px 2px rgba(60, 64, 67, 0.3), 0px 1px 3px 1px rgba(60, 64, 67, 0.15);\n",
              "      fill: #174EA6;\n",
              "    }\n",
              "\n",
              "    .colab-df-buttons div {\n",
              "      margin-bottom: 4px;\n",
              "    }\n",
              "\n",
              "    [theme=dark] .colab-df-convert {\n",
              "      background-color: #3B4455;\n",
              "      fill: #D2E3FC;\n",
              "    }\n",
              "\n",
              "    [theme=dark] .colab-df-convert:hover {\n",
              "      background-color: #434B5C;\n",
              "      box-shadow: 0px 1px 3px 1px rgba(0, 0, 0, 0.15);\n",
              "      filter: drop-shadow(0px 1px 2px rgba(0, 0, 0, 0.3));\n",
              "      fill: #FFFFFF;\n",
              "    }\n",
              "  </style>\n",
              "\n",
              "    <script>\n",
              "      const buttonEl =\n",
              "        document.querySelector('#df-6958340c-2345-44f7-88e2-3a8d5e7efaf3 button.colab-df-convert');\n",
              "      buttonEl.style.display =\n",
              "        google.colab.kernel.accessAllowed ? 'block' : 'none';\n",
              "\n",
              "      async function convertToInteractive(key) {\n",
              "        const element = document.querySelector('#df-6958340c-2345-44f7-88e2-3a8d5e7efaf3');\n",
              "        const dataTable =\n",
              "          await google.colab.kernel.invokeFunction('convertToInteractive',\n",
              "                                                    [key], {});\n",
              "        if (!dataTable) return;\n",
              "\n",
              "        const docLinkHtml = 'Like what you see? Visit the ' +\n",
              "          '<a target=\"_blank\" href=https://colab.research.google.com/notebooks/data_table.ipynb>data table notebook</a>'\n",
              "          + ' to learn more about interactive tables.';\n",
              "        element.innerHTML = '';\n",
              "        dataTable['output_type'] = 'display_data';\n",
              "        await google.colab.output.renderOutput(dataTable, element);\n",
              "        const docLink = document.createElement('div');\n",
              "        docLink.innerHTML = docLinkHtml;\n",
              "        element.appendChild(docLink);\n",
              "      }\n",
              "    </script>\n",
              "  </div>\n",
              "\n",
              "\n",
              "<div id=\"df-1296d289-5155-494e-90e9-bae9b327ad95\">\n",
              "  <button class=\"colab-df-quickchart\" onclick=\"quickchart('df-1296d289-5155-494e-90e9-bae9b327ad95')\"\n",
              "            title=\"Suggest charts\"\n",
              "            style=\"display:none;\">\n",
              "\n",
              "<svg xmlns=\"http://www.w3.org/2000/svg\" height=\"24px\"viewBox=\"0 0 24 24\"\n",
              "     width=\"24px\">\n",
              "    <g>\n",
              "        <path d=\"M19 3H5c-1.1 0-2 .9-2 2v14c0 1.1.9 2 2 2h14c1.1 0 2-.9 2-2V5c0-1.1-.9-2-2-2zM9 17H7v-7h2v7zm4 0h-2V7h2v10zm4 0h-2v-4h2v4z\"/>\n",
              "    </g>\n",
              "</svg>\n",
              "  </button>\n",
              "\n",
              "<style>\n",
              "  .colab-df-quickchart {\n",
              "      --bg-color: #E8F0FE;\n",
              "      --fill-color: #1967D2;\n",
              "      --hover-bg-color: #E2EBFA;\n",
              "      --hover-fill-color: #174EA6;\n",
              "      --disabled-fill-color: #AAA;\n",
              "      --disabled-bg-color: #DDD;\n",
              "  }\n",
              "\n",
              "  [theme=dark] .colab-df-quickchart {\n",
              "      --bg-color: #3B4455;\n",
              "      --fill-color: #D2E3FC;\n",
              "      --hover-bg-color: #434B5C;\n",
              "      --hover-fill-color: #FFFFFF;\n",
              "      --disabled-bg-color: #3B4455;\n",
              "      --disabled-fill-color: #666;\n",
              "  }\n",
              "\n",
              "  .colab-df-quickchart {\n",
              "    background-color: var(--bg-color);\n",
              "    border: none;\n",
              "    border-radius: 50%;\n",
              "    cursor: pointer;\n",
              "    display: none;\n",
              "    fill: var(--fill-color);\n",
              "    height: 32px;\n",
              "    padding: 0;\n",
              "    width: 32px;\n",
              "  }\n",
              "\n",
              "  .colab-df-quickchart:hover {\n",
              "    background-color: var(--hover-bg-color);\n",
              "    box-shadow: 0 1px 2px rgba(60, 64, 67, 0.3), 0 1px 3px 1px rgba(60, 64, 67, 0.15);\n",
              "    fill: var(--button-hover-fill-color);\n",
              "  }\n",
              "\n",
              "  .colab-df-quickchart-complete:disabled,\n",
              "  .colab-df-quickchart-complete:disabled:hover {\n",
              "    background-color: var(--disabled-bg-color);\n",
              "    fill: var(--disabled-fill-color);\n",
              "    box-shadow: none;\n",
              "  }\n",
              "\n",
              "  .colab-df-spinner {\n",
              "    border: 2px solid var(--fill-color);\n",
              "    border-color: transparent;\n",
              "    border-bottom-color: var(--fill-color);\n",
              "    animation:\n",
              "      spin 1s steps(1) infinite;\n",
              "  }\n",
              "\n",
              "  @keyframes spin {\n",
              "    0% {\n",
              "      border-color: transparent;\n",
              "      border-bottom-color: var(--fill-color);\n",
              "      border-left-color: var(--fill-color);\n",
              "    }\n",
              "    20% {\n",
              "      border-color: transparent;\n",
              "      border-left-color: var(--fill-color);\n",
              "      border-top-color: var(--fill-color);\n",
              "    }\n",
              "    30% {\n",
              "      border-color: transparent;\n",
              "      border-left-color: var(--fill-color);\n",
              "      border-top-color: var(--fill-color);\n",
              "      border-right-color: var(--fill-color);\n",
              "    }\n",
              "    40% {\n",
              "      border-color: transparent;\n",
              "      border-right-color: var(--fill-color);\n",
              "      border-top-color: var(--fill-color);\n",
              "    }\n",
              "    60% {\n",
              "      border-color: transparent;\n",
              "      border-right-color: var(--fill-color);\n",
              "    }\n",
              "    80% {\n",
              "      border-color: transparent;\n",
              "      border-right-color: var(--fill-color);\n",
              "      border-bottom-color: var(--fill-color);\n",
              "    }\n",
              "    90% {\n",
              "      border-color: transparent;\n",
              "      border-bottom-color: var(--fill-color);\n",
              "    }\n",
              "  }\n",
              "</style>\n",
              "\n",
              "  <script>\n",
              "    async function quickchart(key) {\n",
              "      const quickchartButtonEl =\n",
              "        document.querySelector('#' + key + ' button');\n",
              "      quickchartButtonEl.disabled = true;  // To prevent multiple clicks.\n",
              "      quickchartButtonEl.classList.add('colab-df-spinner');\n",
              "      try {\n",
              "        const charts = await google.colab.kernel.invokeFunction(\n",
              "            'suggestCharts', [key], {});\n",
              "      } catch (error) {\n",
              "        console.error('Error during call to suggestCharts:', error);\n",
              "      }\n",
              "      quickchartButtonEl.classList.remove('colab-df-spinner');\n",
              "      quickchartButtonEl.classList.add('colab-df-quickchart-complete');\n",
              "    }\n",
              "    (() => {\n",
              "      let quickchartButtonEl =\n",
              "        document.querySelector('#df-1296d289-5155-494e-90e9-bae9b327ad95 button');\n",
              "      quickchartButtonEl.style.display =\n",
              "        google.colab.kernel.accessAllowed ? 'block' : 'none';\n",
              "    })();\n",
              "  </script>\n",
              "</div>\n",
              "\n",
              "  <div id=\"id_f67f78b3-9db2-41a5-af13-86b49b2d0a6c\">\n",
              "    <style>\n",
              "      .colab-df-generate {\n",
              "        background-color: #E8F0FE;\n",
              "        border: none;\n",
              "        border-radius: 50%;\n",
              "        cursor: pointer;\n",
              "        display: none;\n",
              "        fill: #1967D2;\n",
              "        height: 32px;\n",
              "        padding: 0 0 0 0;\n",
              "        width: 32px;\n",
              "      }\n",
              "\n",
              "      .colab-df-generate:hover {\n",
              "        background-color: #E2EBFA;\n",
              "        box-shadow: 0px 1px 2px rgba(60, 64, 67, 0.3), 0px 1px 3px 1px rgba(60, 64, 67, 0.15);\n",
              "        fill: #174EA6;\n",
              "      }\n",
              "\n",
              "      [theme=dark] .colab-df-generate {\n",
              "        background-color: #3B4455;\n",
              "        fill: #D2E3FC;\n",
              "      }\n",
              "\n",
              "      [theme=dark] .colab-df-generate:hover {\n",
              "        background-color: #434B5C;\n",
              "        box-shadow: 0px 1px 3px 1px rgba(0, 0, 0, 0.15);\n",
              "        filter: drop-shadow(0px 1px 2px rgba(0, 0, 0, 0.3));\n",
              "        fill: #FFFFFF;\n",
              "      }\n",
              "    </style>\n",
              "    <button class=\"colab-df-generate\" onclick=\"generateWithVariable('df_concat')\"\n",
              "            title=\"Generate code using this dataframe.\"\n",
              "            style=\"display:none;\">\n",
              "\n",
              "  <svg xmlns=\"http://www.w3.org/2000/svg\" height=\"24px\"viewBox=\"0 0 24 24\"\n",
              "       width=\"24px\">\n",
              "    <path d=\"M7,19H8.4L18.45,9,17,7.55,7,17.6ZM5,21V16.75L18.45,3.32a2,2,0,0,1,2.83,0l1.4,1.43a1.91,1.91,0,0,1,.58,1.4,1.91,1.91,0,0,1-.58,1.4L9.25,21ZM18.45,9,17,7.55Zm-12,3A5.31,5.31,0,0,0,4.9,8.1,5.31,5.31,0,0,0,1,6.5,5.31,5.31,0,0,0,4.9,4.9,5.31,5.31,0,0,0,6.5,1,5.31,5.31,0,0,0,8.1,4.9,5.31,5.31,0,0,0,12,6.5,5.46,5.46,0,0,0,6.5,12Z\"/>\n",
              "  </svg>\n",
              "    </button>\n",
              "    <script>\n",
              "      (() => {\n",
              "      const buttonEl =\n",
              "        document.querySelector('#id_f67f78b3-9db2-41a5-af13-86b49b2d0a6c button.colab-df-generate');\n",
              "      buttonEl.style.display =\n",
              "        google.colab.kernel.accessAllowed ? 'block' : 'none';\n",
              "\n",
              "      buttonEl.onclick = () => {\n",
              "        google.colab.notebook.generateWithVariable('df_concat');\n",
              "      }\n",
              "      })();\n",
              "    </script>\n",
              "  </div>\n",
              "\n",
              "    </div>\n",
              "  </div>\n"
            ],
            "text/plain": [
              "                                    Commit Hash                File Name  \\\n",
              "0      2bc420589478b3cb01398cd9eb233be25b73b7c0            Position.java   \n",
              "1      2bc420589478b3cb01398cd9eb233be25b73b7c0            Position.java   \n",
              "2      2bc420589478b3cb01398cd9eb233be25b73b7c0            Position.java   \n",
              "3      2bc420589478b3cb01398cd9eb233be25b73b7c0            Position.java   \n",
              "4      2bc420589478b3cb01398cd9eb233be25b73b7c0            Position.java   \n",
              "...                                         ...                      ...   \n",
              "28575  04ae900f27e01321655d258dac14e387dc0b4024   HttpRequestDumper.java   \n",
              "28576  04ae900f27e01321655d258dac14e387dc0b4024   HttpRequestDumper.java   \n",
              "28577  04ae900f27e01321655d258dac14e387dc0b4024       MocoExtension.java   \n",
              "28578  5a7405cbd9744bb7c8fecc545e41796186d9b6e0   HttpRequestDumper.java   \n",
              "28579  5c9805b3f55003faf05d03c5c16d2df7d2177b79  HttpResponseDumper.java   \n",
              "\n",
              "                Method Name  \\\n",
              "0                 incOffset   \n",
              "1                incLineNum   \n",
              "2                 incColNum   \n",
              "3                     clone   \n",
              "4                    equals   \n",
              "...                     ...   \n",
              "28575                  dump   \n",
              "28576   requestProtocolLine   \n",
              "28577             afterEach   \n",
              "28578   requestProtocolLine   \n",
              "28579  responseProtocolLine   \n",
              "\n",
              "                                             Method Code  \\\n",
              "0          public int incOffset() {\\n        return o...   \n",
              "1          public int incLineNum() {\\n        return ...   \n",
              "2          public int incColNum() {\\n        return c...   \n",
              "3          protected Position clone() {\\n        try ...   \n",
              "4          public boolean equals(Object o) {\\n       ...   \n",
              "...                                                  ...   \n",
              "28575      public String dump(final Request request) ...   \n",
              "28576      private String requestProtocolLine(final H...   \n",
              "28577      public void afterEach(final ExtensionConte...   \n",
              "28578      private String requestProtocolLine(final H...   \n",
              "28579      private String responseProtocolLine(final ...   \n",
              "\n",
              "                                             Commit Link  \n",
              "0      https://www.github.com/jhy/jsoup/commit/2bc420...  \n",
              "1      https://www.github.com/jhy/jsoup/commit/2bc420...  \n",
              "2      https://www.github.com/jhy/jsoup/commit/2bc420...  \n",
              "3      https://www.github.com/jhy/jsoup/commit/2bc420...  \n",
              "4      https://www.github.com/jhy/jsoup/commit/2bc420...  \n",
              "...                                                  ...  \n",
              "28575  https://www.github.com/dreamhead/moco/commit/0...  \n",
              "28576  https://www.github.com/dreamhead/moco/commit/0...  \n",
              "28577  https://www.github.com/dreamhead/moco/commit/0...  \n",
              "28578  https://www.github.com/dreamhead/moco/commit/5...  \n",
              "28579  https://www.github.com/dreamhead/moco/commit/5...  \n",
              "\n",
              "[28580 rows x 5 columns]"
            ]
          },
          "execution_count": 20,
          "metadata": {},
          "output_type": "execute_result"
        }
      ],
      "source": [
        "df_concat"
      ]
    },
    {
      "cell_type": "code",
      "execution_count": 21,
      "metadata": {
        "id": "wBFijiN6z_Tq"
      },
      "outputs": [],
      "source": [
        "df_concat = remove_comments_from_dataframe(df_concat, \"Method Code\", \"Java\")"
      ]
    },
    {
      "cell_type": "code",
      "execution_count": 22,
      "metadata": {
        "colab": {
          "base_uri": "https://localhost:8080/"
        },
        "id": "plqphFV2TOny",
        "outputId": "d59f4780-3666-4a7d-e18d-22b8e6bedd3f"
      },
      "outputs": [
        {
          "name": "stdout",
          "output_type": "stream",
          "text": [
            "After removing outliers: 25773\n"
          ]
        }
      ],
      "source": [
        "df_final = remove_outliers(df_concat)\n",
        "print(\"After removing outliers:\", len(df_final))"
      ]
    }
  ],
  "metadata": {
    "colab": {
      "provenance": []
    },
    "kernelspec": {
      "display_name": "Python 3",
      "name": "python3"
    },
    "language_info": {
      "name": "python"
    }
  },
  "nbformat": 4,
  "nbformat_minor": 0
}
